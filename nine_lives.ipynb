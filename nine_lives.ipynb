{
 "cells": [
  {
   "cell_type": "code",
   "execution_count": null,
   "id": "8e3cb223",
   "metadata": {},
   "outputs": [],
   "source": [
    "import words\n",
    "import random"
   ]
  },
  {
   "cell_type": "code",
   "execution_count": null,
   "id": "1a9b0622",
   "metadata": {},
   "outputs": [],
   "source": [
    "def nine_lives(lives, secret_word, word):\n",
    "    \n",
    "    if len(lives) == 0:\n",
    "        return 'Sorry! You lost.'\n",
    "    \n",
    "    print(secret_word)\n",
    "    print(f'Lives left: {lives}')\n",
    "    guess = input('Guess a letter or a whole word: ')\n",
    "    \n",
    "    if guess in secret_word:\n",
    "        ind_1 = word.index(guess) + 1\n",
    "        l = secret_word[ind_1: ]\n",
    "        ind_2 = ind_1 - len(word[ :ind_1])\n",
    "        l[ind_2] = guess\n",
    "        secret_word = secret_word[:ind_1] + l\n",
    "    \n",
    "    if len(guess) == 1 and (guess in word):\n",
    "        ind = word.index(guess)\n",
    "        secret_word[ind] = guess\n",
    "    else:\n",
    "        lives = lives[:-1]\n",
    "    if guess == word or secret_word == word_list:\n",
    "        return f'You won! The secret word was {\"\".join(word)}'\n",
    "        \n",
    "    return nine_lives(lives, secret_word, word)"
   ]
  },
  {
   "cell_type": "markdown",
   "id": "4d3220a3",
   "metadata": {},
   "source": [
    "## Obstacle\n",
    "\n",
    "> indexing correct letter "
   ]
  },
  {
   "cell_type": "code",
   "execution_count": null,
   "id": "999b5811",
   "metadata": {
    "scrolled": false
   },
   "outputs": [],
   "source": [
    "word_list = list(random.choice(words.words))\n",
    "w = ''.join(word_list)\n",
    "secret = list(len(w) * '?')\n",
    "l = 9 * \"♥\"\n",
    "print(w)\n",
    "\n",
    "nine_lives(l, secret, w)"
   ]
  },
  {
   "cell_type": "code",
   "execution_count": null,
   "id": "94049e0f",
   "metadata": {},
   "outputs": [],
   "source": [
    "t\n",
    "ts = ''\n",
    "len(s)"
   ]
  },
  {
   "cell_type": "code",
   "execution_count": null,
   "id": "a2b4ebf9",
   "metadata": {},
   "outputs": [],
   "source": []
  }
 ],
 "metadata": {
  "kernelspec": {
   "display_name": "Python 3 (ipykernel)",
   "language": "python",
   "name": "python3"
  },
  "language_info": {
   "codemirror_mode": {
    "name": "ipython",
    "version": 3
   },
   "file_extension": ".py",
   "mimetype": "text/x-python",
   "name": "python",
   "nbconvert_exporter": "python",
   "pygments_lexer": "ipython3",
   "version": "3.9.12"
  }
 },
 "nbformat": 4,
 "nbformat_minor": 5
}

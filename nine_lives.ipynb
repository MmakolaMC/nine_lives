{
 "cells": [
  {
   "cell_type": "code",
   "execution_count": null,
   "id": "8e3cb223",
   "metadata": {},
   "outputs": [],
   "source": [
    "import words\n",
    "import random"
   ]
  },
  {
   "cell_type": "code",
   "execution_count": null,
   "id": "1a9b0622",
   "metadata": {},
   "outputs": [],
   "source": [
    "def nine_lives(lives, secret_word, word):\n",
    "    \n",
    "    if len(lives) == 0:# Stop recursion condition\n",
    "        return 'Game Over!'\n",
    "    \n",
    "    print(secret_word)\n",
    "    print(f'Lives left: {lives}\\n')\n",
    "    guess = input('Guess a letter or a whole word:\\n')\n",
    "    \n",
    "    for i in range(len(word)):# Check if letter in word\n",
    "        if word[i] == guess:\n",
    "            secret_word[i] = guess# Replace '?' with the correct letter\n",
    "    \n",
    "    if guess not in word:\n",
    "        lives = lives[:-1]\n",
    "        print('Wrong! one life lost.')# Take away life\n",
    "        \n",
    "    if guess == word or secret_word == word_list:\n",
    "        return f'You won! The secret word was {\"\".join(word)}'\n",
    "        \n",
    "    return nine_lives(lives, secret_word, word)# Recursively run function until stop"
   ]
  },
  {
   "cell_type": "code",
   "execution_count": null,
   "id": "999b5811",
   "metadata": {
    "scrolled": false
   },
   "outputs": [],
   "source": [
    "word_list = list(random.choice(words.words))\n",
    "w = ''.join(word_list)\n",
    "secret = list(len(w) * '?')\n",
    "s = 9 * \"♥\"\n",
    "\n",
    "nine_lives(s, secret, w)"
   ]
  },
  {
   "cell_type": "code",
   "execution_count": null,
   "id": "a2b4ebf9",
   "metadata": {},
   "outputs": [],
   "source": []
  }
 ],
 "metadata": {
  "kernelspec": {
   "display_name": "Python 3 (ipykernel)",
   "language": "python",
   "name": "python3"
  },
  "language_info": {
   "codemirror_mode": {
    "name": "ipython",
    "version": 3
   },
   "file_extension": ".py",
   "mimetype": "text/x-python",
   "name": "python",
   "nbconvert_exporter": "python",
   "pygments_lexer": "ipython3",
   "version": "3.9.12"
  }
 },
 "nbformat": 4,
 "nbformat_minor": 5
}

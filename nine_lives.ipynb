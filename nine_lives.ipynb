{
 "cells": [
  {
   "cell_type": "code",
   "execution_count": 1,
   "id": "8e3cb223",
   "metadata": {},
   "outputs": [],
   "source": [
    "import words\n",
    "import random"
   ]
  },
  {
   "cell_type": "code",
   "execution_count": 14,
   "id": "1a9b0622",
   "metadata": {},
   "outputs": [],
   "source": [
    "def nine_lives(lives, secret_word, word):\n",
    "    \n",
    "    if len(lives) == 0:\n",
    "        return 'Sorry! You lost.'\n",
    "    \n",
    "    print(secret)\n",
    "    print(f'Lives left: {lives}')\n",
    "    guess = input('Guess a letter or a whole word: ')\n",
    "    \n",
    "    if len(guess) == 1 and (guess in word):\n",
    "        ind = ''.join(word).index(guess)\n",
    "        secret[ind] = guess\n",
    "    else:\n",
    "        lives = lives[:-1]\n",
    "    if guess == word or secret == word_list:\n",
    "        return f'You won! The secret word was {\"\".join(word)}'\n",
    "        \n",
    "    return nine_lives(lives, secret_word, word)"
   ]
  },
  {
   "cell_type": "code",
   "execution_count": 19,
   "id": "81f6101b",
   "metadata": {
    "scrolled": false
   },
   "outputs": [
    {
     "name": "stdout",
     "output_type": "stream",
     "text": [
      "vague\n",
      "['?', '?', '?', '?', '?']\n",
      "Lives left: ♥♥♥♥♥♥♥♥♥\n",
      "Guess a letter or a whole word: v\n",
      "['v', '?', '?', '?', '?']\n",
      "Lives left: ♥♥♥♥♥♥♥♥♥\n",
      "Guess a letter or a whole word: a\n",
      "['v', 'a', '?', '?', '?']\n",
      "Lives left: ♥♥♥♥♥♥♥♥♥\n",
      "Guess a letter or a whole word: g\n",
      "['v', 'a', 'g', '?', '?']\n",
      "Lives left: ♥♥♥♥♥♥♥♥♥\n",
      "Guess a letter or a whole word: t\n",
      "['v', 'a', 'g', '?', '?']\n",
      "Lives left: ♥♥♥♥♥♥♥♥\n",
      "Guess a letter or a whole word: u\n",
      "['v', 'a', 'g', 'u', '?']\n",
      "Lives left: ♥♥♥♥♥♥♥♥\n",
      "Guess a letter or a whole word: e\n"
     ]
    },
    {
     "data": {
      "text/plain": [
       "'You won! The secret word was vague'"
      ]
     },
     "execution_count": 19,
     "metadata": {},
     "output_type": "execute_result"
    }
   ],
   "source": [
    "word_list = list(random.choice(words.words))\n",
    "w = ''.join(word_list)\n",
    "secret = list(len(w) * '?')\n",
    "l = 9 * \"♥\"\n",
    "print(w)\n",
    "\n",
    "nine_lives(l, secret, w)"
   ]
  },
  {
   "cell_type": "code",
   "execution_count": 17,
   "id": "4d332b17",
   "metadata": {},
   "outputs": [
    {
     "data": {
      "text/plain": [
       "0"
      ]
     },
     "execution_count": 17,
     "metadata": {},
     "output_type": "execute_result"
    }
   ],
   "source": [
    "s = ''\n",
    "len(s)"
   ]
  },
  {
   "cell_type": "code",
   "execution_count": null,
   "id": "2217d5a7",
   "metadata": {},
   "outputs": [],
   "source": []
  }
 ],
 "metadata": {
  "kernelspec": {
   "display_name": "Python 3 (ipykernel)",
   "language": "python",
   "name": "python3"
  },
  "language_info": {
   "codemirror_mode": {
    "name": "ipython",
    "version": 3
   },
   "file_extension": ".py",
   "mimetype": "text/x-python",
   "name": "python",
   "nbconvert_exporter": "python",
   "pygments_lexer": "ipython3",
   "version": "3.9.12"
  }
 },
 "nbformat": 4,
 "nbformat_minor": 5
}

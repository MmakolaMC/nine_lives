{
 "cells": [
  {
   "cell_type": "code",
   "execution_count": null,
   "id": "8e3cb223",
   "metadata": {},
   "outputs": [],
   "source": [
    "import words\n",
    "import random"
   ]
  },
  {
   "cell_type": "code",
   "execution_count": null,
   "id": "7b833903",
   "metadata": {},
   "outputs": [],
   "source": [
    "def words_lives():\n",
    "    words_list = words.words\n",
    "    return list(random.choice(words_list))"
   ]
  },
  {
   "cell_type": "code",
   "execution_count": null,
   "id": "1a9b0622",
   "metadata": {},
   "outputs": [],
   "source": [
    "def user_input():\n",
    "    return input('Guess letter or whole word: ')"
   ]
  },
  {
   "cell_type": "code",
   "execution_count": null,
   "id": "6786a7d4",
   "metadata": {},
   "outputs": [],
   "source": [
    "word = words_lives()\n",
    "print(word)\n",
    "secret = list(len(word)*'?')\n",
    "\n",
    "def play(word):\n",
    "    number = 9\n",
    "    lives = number * \"\\u2764\\ufe0f\"\n",
    "    print(secret)\n",
    "    print(f'Lives left {lives}')\n",
    "    \n",
    "    guess = user_input()\n",
    "    if guess == ''.join(word) or ''.join(secret) == word:\n",
    "        \n",
    "        return f'You have won! the secret word was {word}'\n",
    "    elif guess not in word:\n",
    "        number = number - 1\n",
    "        lives = number * \"\\u2764\\ufe0f\"\n",
    "    elif guess in word:\n",
    "        ind = word.index(guess)\n",
    "        secret[ind] = guess\n",
    "    elif len(lives) < 1:\n",
    "        return 'You have no more lives left!'\n",
    "        \n",
    "    return play(word)"
   ]
  },
  {
   "cell_type": "code",
   "execution_count": null,
   "id": "4f32171b",
   "metadata": {
    "scrolled": false
   },
   "outputs": [],
   "source": [
    "play(word)"
   ]
  },
  {
   "cell_type": "code",
   "execution_count": null,
   "id": "75a1ae97",
   "metadata": {},
   "outputs": [],
   "source": []
  }
 ],
 "metadata": {
  "kernelspec": {
   "display_name": "Python 3 (ipykernel)",
   "language": "python",
   "name": "python3"
  },
  "language_info": {
   "codemirror_mode": {
    "name": "ipython",
    "version": 3
   },
   "file_extension": ".py",
   "mimetype": "text/x-python",
   "name": "python",
   "nbconvert_exporter": "python",
   "pygments_lexer": "ipython3",
   "version": "3.9.12"
  }
 },
 "nbformat": 4,
 "nbformat_minor": 5
}

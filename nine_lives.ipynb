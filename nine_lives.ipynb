{
 "cells": [
  {
   "cell_type": "code",
   "execution_count": 1,
   "id": "8e3cb223",
   "metadata": {},
   "outputs": [],
   "source": [
    "import words\n",
    "import random"
   ]
  },
  {
   "cell_type": "code",
   "execution_count": 4,
   "id": "1a9b0622",
   "metadata": {},
   "outputs": [],
   "source": [
    "def nine_lives(lives, secret_word, word):\n",
    "    \n",
    "    if len(lives) == 0:# Stop recursion condition\n",
    "        return 'Sorry! You lost.'\n",
    "    \n",
    "    print(secret_word)\n",
    "    print(f'Lives left: {lives}')\n",
    "    guess = input('Guess a letter or a whole word: ')\n",
    "    \n",
    "    for i in range(len(word)):# Check if letter in word\n",
    "        if word[i] == guess:\n",
    "            secret_word[i] = guess\n",
    "    \n",
    "    if guess not in word:\n",
    "        lives = lives[:-1]\n",
    "    if guess == word or secret_word == word_list:\n",
    "        return f'You won! The secret word was {\"\".join(word)}'\n",
    "        \n",
    "    return nine_lives(lives, secret_word, word)"
   ]
  },
  {
   "cell_type": "code",
   "execution_count": 5,
   "id": "999b5811",
   "metadata": {
    "scrolled": false
   },
   "outputs": [
    {
     "name": "stdout",
     "output_type": "stream",
     "text": [
      "aspiring\n",
      "['?', '?', '?', '?', '?', '?', '?', '?']\n",
      "Lives left: ♥♥♥♥♥♥♥♥♥\n",
      "Guess a letter or a whole word: a\n",
      "['a', '?', '?', '?', '?', '?', '?', '?']\n",
      "Lives left: ♥♥♥♥♥♥♥♥♥\n",
      "Guess a letter or a whole word: s\n",
      "['a', 's', '?', '?', '?', '?', '?', '?']\n",
      "Lives left: ♥♥♥♥♥♥♥♥♥\n",
      "Guess a letter or a whole word: p\n",
      "['a', 's', 'p', '?', '?', '?', '?', '?']\n",
      "Lives left: ♥♥♥♥♥♥♥♥♥\n",
      "Guess a letter or a whole word: e\n",
      "['a', 's', 'p', '?', '?', '?', '?', '?']\n",
      "Lives left: ♥♥♥♥♥♥♥♥\n",
      "Guess a letter or a whole word: i\n",
      "['a', 's', 'p', 'i', '?', 'i', '?', '?']\n",
      "Lives left: ♥♥♥♥♥♥♥♥\n",
      "Guess a letter or a whole word: r\n",
      "['a', 's', 'p', 'i', 'r', 'i', '?', '?']\n",
      "Lives left: ♥♥♥♥♥♥♥♥\n",
      "Guess a letter or a whole word: n\n",
      "['a', 's', 'p', 'i', 'r', 'i', 'n', '?']\n",
      "Lives left: ♥♥♥♥♥♥♥♥\n",
      "Guess a letter or a whole word: g\n"
     ]
    },
    {
     "data": {
      "text/plain": [
       "'You won! The secret word was aspiring'"
      ]
     },
     "execution_count": 5,
     "metadata": {},
     "output_type": "execute_result"
    }
   ],
   "source": [
    "word_list = list(random.choice(words.words))\n",
    "w = ''.join(word_list)\n",
    "secret = list(len(w) * '?')\n",
    "s = 9 * \"♥\"\n",
    "\n",
    "nine_lives(s, secret, w)"
   ]
  },
  {
   "cell_type": "code",
   "execution_count": null,
   "id": "a2b4ebf9",
   "metadata": {},
   "outputs": [],
   "source": []
  }
 ],
 "metadata": {
  "kernelspec": {
   "display_name": "Python 3 (ipykernel)",
   "language": "python",
   "name": "python3"
  },
  "language_info": {
   "codemirror_mode": {
    "name": "ipython",
    "version": 3
   },
   "file_extension": ".py",
   "mimetype": "text/x-python",
   "name": "python",
   "nbconvert_exporter": "python",
   "pygments_lexer": "ipython3",
   "version": "3.9.12"
  }
 },
 "nbformat": 4,
 "nbformat_minor": 5
}
